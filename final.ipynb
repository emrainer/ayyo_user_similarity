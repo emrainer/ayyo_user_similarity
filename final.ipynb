{
 "cells": [
  {
   "cell_type": "markdown",
   "id": "1d542504",
   "metadata": {},
   "source": [
    "**`Run the following cell to install lyricsgenius:`**"
   ]
  },
  {
   "cell_type": "code",
   "execution_count": 6,
   "id": "7026110e",
   "metadata": {},
   "outputs": [],
   "source": [
    "#!pip install lyricsgenius"
   ]
  },
  {
   "cell_type": "markdown",
   "id": "d03e341d",
   "metadata": {},
   "source": [
    "**`Import Packages:`**"
   ]
  },
  {
   "cell_type": "code",
   "execution_count": 3,
   "id": "b2c8a8f2-b93e-434a-9c4e-134140a702d0",
   "metadata": {},
   "outputs": [],
   "source": [
    "import boto3\n",
    "import numpy as np\n",
    "import pandas as pd\n",
    "import seaborn as sns\n",
    "import matplotlib.pyplot as plt\n",
    "from Spotify_Analysis import *\n",
    "import transformers as hf\n",
    "from torch.utils.data import Dataset, DataLoader\n",
    "\n",
    "%config InlineBackend.figure_format = 'retina'\n",
    "import warnings\n",
    "warnings.filterwarnings(\"ignore\")"
   ]
  },
  {
   "cell_type": "markdown",
   "id": "5f7c6e16",
   "metadata": {},
   "source": [
    "# `Calculating Similarity between Ay-Yo! User Profiles`\n",
    "`Marti Heit and Emma Rainer`"
   ]
  },
  {
   "cell_type": "markdown",
   "id": "13e9599b",
   "metadata": {},
   "source": [
    "## Task 1: Data Generation"
   ]
  },
  {
   "cell_type": "markdown",
   "id": "e40e0a53",
   "metadata": {},
   "source": [
    "### Load Glove Embeddings"
   ]
  },
  {
   "cell_type": "markdown",
   "id": "7c343839",
   "metadata": {},
   "source": [
    "### Genius API\n",
    "Leverage genius API to scrape relevant song lyrics. Using glove embeddings, find a word vector centroid for the text of a particular song."
   ]
  },
  {
   "cell_type": "code",
   "execution_count": 35,
   "id": "8772dda7-0d45-4c04-8ddd-38612005d1e8",
   "metadata": {
    "tags": []
   },
   "outputs": [],
   "source": [
    "genius = Genius(GENIUS_API_TOKEN) # Token stored in Spotify_Analysis.py"
   ]
  },
  {
   "cell_type": "markdown",
   "id": "d009d14c-c1ba-44de-b8d2-cce17caa3aa7",
   "metadata": {},
   "source": [
    "## Profile Similarity of Ay-Yo users"
   ]
  },
  {
   "cell_type": "markdown",
   "id": "456e78c7-099a-429d-8b1d-17d5053f9604",
   "metadata": {},
   "source": [
    "### Pull Users and Posts from Ay-Yo!"
   ]
  },
  {
   "cell_type": "code",
   "execution_count": 4,
   "id": "fbcb59af-90bc-469e-8398-9c0478adbaff",
   "metadata": {},
   "outputs": [],
   "source": [
    "with open('aws_access_key.txt', 'r') as f:\n",
    "     AWS_ACCESS_KEY = f.read().split('\\n')[0]\n",
    "with open('aws_secret_access_key.txt', 'r') as f:\n",
    "     AWS_SECRET_ACCESS_KEY = f.read().split('\\n')[0]\n",
    "\n",
    "users_to_posts = get_users_to_posts(AWS_ACCESS_KEY, AWS_SECRET_ACCESS_KEY)"
   ]
  },
  {
   "cell_type": "code",
   "execution_count": 5,
   "id": "a29b2ce7-cd44-437d-9d9c-5c0e966fd051",
   "metadata": {
    "collapsed": true,
    "jupyter": {
     "outputs_hidden": true
    },
    "tags": []
   },
   "outputs": [
    {
     "name": "stdout",
     "output_type": "stream",
     "text": [
      "Searching for \"Forever After All\" by Luke Combs...\n",
      "Done.\n",
      "Searching for \"Being In Love\" by Wet Leg...\n",
      "Done.\n",
      "Searching for \"Last Caress - C.I. Recording 1978\" by Misfits...\n",
      "No results found for: 'Last Caress - C.I. Recording 1978 Misfits'\n",
      "Searching for \"Ribs\" by Lorde...\n",
      "Done.\n",
      "Searching for \"blue\" by keshi...\n",
      "Done.\n",
      "Searching for \"I Gotta Feeling\" by Black Eyed Peas...\n",
      "Done.\n",
      "Searching for \"I Love You.\" by Kaivon...\n",
      "Done.\n",
      "Searching for \"Violent Crimes\" by Kanye West...\n",
      "Done.\n",
      "Searching for \"Do It To It\" by ACRAZE...\n",
      "Done.\n",
      "Searching for \"Set Me Free (feat. MAX)\" by Oliver Heldens...\n",
      "Done.\n",
      "Searching for \"less of you\" by keshi...\n",
      "Done.\n",
      "Searching for \"Down with the Sickness\" by Disturbed...\n",
      "Done.\n",
      "Searching for \"she likes spring, I prefer winter\" by slchld...\n",
      "Done.\n",
      "Searching for \"Ghost\" by Justin Bieber...\n",
      "Done.\n",
      "Searching for \"Places We Don't Know\" by Kasbo...\n",
      "Specified song does not contain lyrics. Rejecting.\n",
      "Searching for \"September\" by Earth, Wind & Fire...\n",
      "Searching for \"September\" by Earth, Wind & Fire...\n",
      "Done.\n",
      "Searching for \"Viva La Vida\" by Coldplay...\n",
      "Done.\n",
      "Searching for \"Reading Rainbow Theme Song\" by Reading Rainbow...\n",
      "Done.\n",
      "Searching for \"Yummy\" by Justin Bieber...\n",
      "Done.\n",
      "Searching for \"All Summer Long\" by Kid Rock...\n",
      "Done.\n",
      "Searching for \"Touch The Sky\" by Kanye West...\n",
      "Done.\n",
      "Searching for \"Blossom\" by Porter Robinson...\n",
      "Done.\n",
      "Searching for \"1979 - Remastered 2012\" by The Smashing Pumpkins...\n",
      "Done.\n",
      "Searching for \"Your Way\" by Rexx Life Raj...\n",
      "Done.\n",
      "Searching for \"twentysixteen\" by jubilee marisa...\n",
      "No results found for: 'twentysixteen jubilee marisa'\n",
      "Searching for \"Your Man\" by Josh Turner...\n",
      "Done.\n",
      "Searching for \"I Get You\" by Kasbo...\n",
      "Done.\n",
      "Searching for \"All Signs Point To Lauderdale\" by A Day To Remember...\n",
      "Done.\n",
      "Searching for \"Name - 2015 Remaster\" by The Goo Goo Dolls...\n",
      "Done.\n",
      "Searching for \"Dysfunctional\" by Tech N9ne Collabos...\n",
      "Done.\n",
      "Searching for \"Zoey 101 (From \"Zoey 101\")\" by Geek Music...\n",
      "Done.\n",
      "Searching for \"All Signs Point To Lauderdale\" by A Day To Remember...\n",
      "Done.\n",
      "Searching for \"Come & Go (with Marshmello)\" by Juice WRLD...\n",
      "Done.\n",
      "Searching for \"Rise\" by Ollie...\n",
      "Done.\n",
      "Searching for \"Tranquility\" by Direct...\n",
      "Specified song does not contain lyrics. Rejecting.\n",
      "Searching for \"Whatsername\" by Green Day...\n",
      "Done.\n",
      "Searching for \"Nonstop\" by Drake...\n",
      "Done.\n",
      "Searching for \"Hate Me (with Juice WRLD)\" by Ellie Goulding...\n",
      "Done.\n",
      "Searching for \"Holiday\" by Green Day...\n",
      "Done.\n",
      "Searching for \"Knife Talk (with 21 Savage ft. Project Pat)\" by Drake...\n",
      "Done.\n",
      "Searching for \"Drifters\" by Feint...\n",
      "Done.\n",
      "Searching for \"Over My Head (Cable Car)\" by The Fray...\n",
      "Done.\n",
      "Searching for \"Pressure\" by Draper...\n",
      "Done.\n",
      "Searching for \"Neighbors\" by J. Cole...\n",
      "Done.\n",
      "Searching for \"Rain On Me (with Ariana Grande)\" by Lady Gaga...\n",
      "Done.\n",
      "Searching for \"Lua\" by Bright Eyes...\n",
      "Done.\n",
      "Searching for \"All Summer Long\" by Kid Rock...\n",
      "Done.\n",
      "Searching for \"Texas Sun\" by Khruangbin...\n",
      "Done.\n",
      "Searching for \"7 rings\" by Ariana Grande...\n",
      "Done.\n",
      "Searching for \"Prom Queen\" by Beach Bunny...\n",
      "Done.\n",
      "Searching for \"Goodnight Moon\" by Go Radio...\n",
      "Done.\n",
      "Searching for \"10 Freaky Girls (with 21 Savage)\" by Metro Boomin...\n",
      "Done.\n",
      "Searching for \"Gives You Hell\" by The All-American Rejects...\n",
      "Done.\n",
      "Searching for \"What's Up?\" by 4 Non Blondes...\n",
      "Done.\n",
      "Searching for \"Green Light\" by Lorde...\n",
      "Done.\n",
      "Searching for \"I Think Your Nose Is Bleeding\" by The Front Bottoms...\n",
      "Done.\n",
      "Searching for \"I'm Amazing\" by Omar Apollo...\n",
      "Done.\n",
      "Searching for \"Heartless\" by The Weeknd...\n",
      "Done.\n",
      "Searching for \"Death By A Thousand Cuts\" by Taylor Swift...\n",
      "Done.\n",
      "Searching for \"Dive\" by Ed Sheeran...\n",
      "Done.\n",
      "Searching for \"Starships\" by Nicki Minaj...\n",
      "Done.\n",
      "Searching for \"Cutting My Fingers Off\" by Turnover...\n",
      "Done.\n",
      "Searching for \"If You Love Me, Come Clean\" by Flatsound...\n",
      "Done.\n",
      "Searching for \"Don't Rain On My Parade\" by Barbra Streisand...\n",
      "Done.\n",
      "Searching for \"Summer Shandy\" by The Front Bottoms...\n",
      "Done.\n",
      "Searching for \"Chelsea Dagger\" by The Fratellis...\n",
      "Done.\n",
      "Searching for \"Twin Size Mattress\" by The Front Bottoms...\n",
      "Done.\n",
      "Searching for \"In the Name of Love\" by Martin Garrix...\n",
      "Done.\n",
      "Searching for \"Picture (feat. Sheryl Crow)\" by Kid Rock...\n",
      "Done.\n",
      "Searching for \"22\" by Taylor Swift...\n",
      "Done.\n",
      "Searching for \"Always Remember Us This Way\" by Lady Gaga...\n",
      "Done.\n",
      "Searching for \"I Don't Want to Be\" by Gavin DeGraw...\n",
      "Done.\n",
      "Searching for \"Cherry Wine - Live\" by Hozier...\n",
      "Done.\n",
      "Searching for \"Girls Just Want to Have Fun\" by Cyndi Lauper...\n",
      "Done.\n",
      "Searching for \"I Love It (feat. Charli XCX)\" by Icona Pop...\n",
      "Done.\n",
      "Searching for \"If I Ain't Got You\" by Alicia Keys...\n",
      "Done.\n",
      "Searching for \"Whiskey Glasses\" by Morgan Wallen...\n",
      "Done.\n",
      "Searching for \"GOLD\" by BROCKHAMPTON...\n",
      "Done.\n",
      "Searching for \"When The Stars Go Blue\" by Tim McGraw...\n",
      "Done.\n",
      "Searching for \"Honey\" by KAINA...\n",
      "Done.\n",
      "Searching for \"Daisy\" by Ashnikko...\n",
      "Done.\n",
      "Searching for \"Cruel Summer\" by Taylor Swift...\n",
      "Done.\n",
      "Searching for \"Timber (feat. Ke$ha)\" by Pitbull...\n",
      "Done.\n",
      "Searching for \"Till Forever Falls Apart\" by Ashe...\n",
      "Done.\n",
      "Searching for \"Wildfire (feat. Frank Ocean)\" by John Mayer...\n",
      "Done.\n",
      "Searching for \"Paris Nights / New York Mornings\" by Corinne Bailey Rae...\n",
      "Done.\n",
      "Searching for \"Lava Lamps (feat. Beekwilder)\" by Maty Noyes...\n",
      "Done.\n",
      "Searching for \"You Oughta Know - 2015 Remaster\" by Alanis Morissette...\n",
      "Done.\n",
      "Searching for \"None Of Your Business\" by Salt-N-Pepa...\n",
      "Done.\n",
      "Searching for \"Teenage Dirtbag\" by Various Artists...\n",
      "No results found for: 'Teenage Dirtbag Various Artists'\n",
      "Searching for \"Piazza, New York Catcher\" by Belle and Sebastian...\n",
      "Done.\n",
      "Searching for \"Baby I'm Yours\" by Arctic Monkeys...\n",
      "Done.\n",
      "Searching for \"Dream Girl Evil\" by Florence + The Machine...\n",
      "Done.\n",
      "Searching for \"Sometimes\" by Britney Spears...\n",
      "Done.\n",
      "Searching for \"Love Overgrown\" by Raveena...\n",
      "Done.\n",
      "Searching for \"Roses Are Falling\" by Orville Peck...\n",
      "Done.\n",
      "Searching for \"No More Parties In LA\" by Kanye West...\n",
      "Done.\n",
      "Searching for \"Emotions\" by Mariah Carey...\n",
      "Done.\n",
      "Searching for \"From The Back of a Cab\" by Rostam...\n",
      "Done.\n",
      "Searching for \"Numb / Encore\" by JAY-Z...\n",
      "Done.\n",
      "Searching for \"Chicago Freestyle (feat. Giveon)\" by Drake...\n",
      "Done.\n",
      "Searching for \"Brooklyn Baby\" by Lana Del Rey...\n",
      "Done.\n",
      "Searching for \"Rehab\" by Amy Winehouse...\n",
      "Done.\n",
      "Searching for \"California (feat. Warren Hue)\" by 88rising...\n",
      "Done.\n",
      "Searching for \"Self Control\" by Frank Ocean...\n",
      "Done.\n",
      "Searching for \"SAD!\" by XXXTENTACION...\n",
      "Done.\n",
      "Searching for \"New Light\" by John Mayer...\n",
      "Done.\n",
      "Searching for \"Good Things Fall Apart (with Jon Bellion)\" by ILLENIUM...\n",
      "Done.\n",
      "Searching for \"I Don't Love You\" by My Chemical Romance...\n",
      "Done.\n",
      "Searching for \"Levels - Original Version\" by Avicii...\n",
      "Done.\n",
      "Searching for \"Wonderful Tonight\" by Eric Clapton...\n",
      "Done.\n",
      "Searching for \"Hope\" by The Chainsmokers...\n",
      "Done.\n",
      "Searching for \"Father Time (feat. Sampha)\" by Kendrick Lamar...\n",
      "Done.\n",
      "Searching for \"right here\" by Various Artists...\n",
      "Done.\n",
      "Searching for \"Fractures\" by ILLENIUM...\n",
      "Done.\n",
      "Searching for \"Replay\" by Iyaz...\n",
      "Done.\n",
      "Searching for \"Replay\" by Iyaz...\n",
      "Done.\n",
      "Searching for \"Gold Digger\" by Kanye West...\n",
      "Done.\n",
      "Searching for \"Replay\" by Iyaz...\n",
      "Done.\n",
      "Searching for \"Feel So Close - Radio Edit\" by Calvin Harris...\n",
      "Done.\n",
      "Searching for \"Message In A Bottle (Taylor's Version) (From The Vault)\" by Taylor Swift...\n",
      "Done.\n",
      "Searching for \"Riff Off: Mickey/Like A Virgin/Hit Me With Your Best Shot/S&M/Let’s Talk About Sex/I’ll Make Love To You/Feels Like The First Time/No Diggity\" by Various Artists...\n",
      "No results found for: 'Riff Off: Mickey/Like A Virgin/Hit Me With Your Best Shot/S&M/Let’s Talk About Sex/I’ll Make Love To You/Feels Like The First Time/No Diggity Various Artists'\n",
      "Searching for \"Doses & Mimosas\" by Cherub...\n",
      "Done.\n",
      "Searching for \"The Joke\" by Brandi Carlile...\n",
      "Done.\n",
      "Searching for \"Dancing in the Moonlight\" by Toploader...\n",
      "Done.\n",
      "Searching for \"Fireball (feat. John Ryan)\" by Pitbull...\n",
      "Done.\n",
      "Searching for \"Head Over Boots\" by Jon Pardi...\n",
      "Done.\n",
      "Searching for \"Baby Can I Hold You\" by Tracy Chapman...\n",
      "Done.\n",
      "Searching for \"Television / So Far So Good\" by Rex Orange County...\n",
      "Done.\n",
      "Searching for \"Love In The Dark\" by Adele...\n",
      "Done.\n",
      "Searching for \"Country Girl (Shake It For Me)\" by Luke Bryan...\n",
      "Done.\n",
      "Searching for \"Empire State Of Mind\" by JAY-Z...\n",
      "Done.\n",
      "Searching for \"Thunderstruck\" by AC/DC...\n",
      "Done.\n",
      "Searching for \"Don't Think Twice, It's All Right\" by Bob Dylan...\n",
      "Done.\n",
      "Searching for \"Over the Rainbow\" by Israel Kamakawiwo'ole...\n",
      "Done.\n",
      "Searching for \"Crazy Train\" by Ozzy Osbourne...\n",
      "Done.\n",
      "Searching for \"I Don't Want to Be\" by Gavin DeGraw...\n",
      "Done.\n",
      "Searching for \"No Hands (feat. Roscoe Dash & Wale)\" by Waka Flocka Flame...\n",
      "Done.\n",
      "Searching for \"Tishomingo\" by Zach Bryan...\n",
      "Done.\n",
      "Searching for \"Over the Rainbow\" by Israel Kamakawiwo'ole...\n",
      "Done.\n",
      "Searching for \"All Night Longer\" by Sammy Adams...\n",
      "Done.\n",
      "Searching for \"Scream (Funk My Life Up)\" by Paolo Nutini...\n",
      "Done.\n",
      "Searching for \"Bodak Yellow\" by Cardi B...\n",
      "Done.\n",
      "Searching for \"Winter Song (feat. Cynthia Erivo)\" by Leslie Odom Jr....\n",
      "Done.\n",
      "Searching for \"100 Grandkids\" by Mac Miller...\n",
      "Done.\n",
      "Searching for \"You're The One That I Want - From “Grease”\" by Various Artists...\n",
      "Done.\n",
      "Searching for \"Let It Rock\" by Kevin Rudolf...\n",
      "Done.\n",
      "Searching for \"Vacation\" by Cookiee Kawaii...\n",
      "Done.\n",
      "Searching for \"Huku\" by Sho Madjozi...\n",
      "Done.\n",
      "Searching for \"Huku\" by Sho Madjozi...\n",
      "Done.\n",
      "Searching for \"As It Was\" by Harry Styles...\n",
      "Done.\n",
      "Searching for \"Malibu\" by Miley Cyrus...\n",
      "Done.\n",
      "Searching for \"Take A Bow\" by Rihanna...\n",
      "Done.\n",
      "Searching for \"Nothing Recently\" by Tom Kenis...\n",
      "Done.\n",
      "Searching for \"Charmander\" by Aminé...\n",
      "Done.\n",
      "Searching for \"OPEN A WINDOW (feat. Tyler, The Creator)\" by Rex Orange County...\n",
      "Done.\n",
      "Searching for \"Red Kingdom\" by Tech N9ne...\n",
      "Done.\n",
      "Searching for \"The Kiss Of Venus (Dominic Fike)\" by Paul McCartney...\n",
      "Done.\n",
      "Searching for \"Ford Cardinal\" by Halima...\n",
      "Done.\n",
      "Searching for \"Daylight\" by Harry Styles...\n",
      "Done.\n",
      "Searching for \"Never Be the Same\" by Camila Cabello...\n",
      "Done.\n",
      "Searching for \"making bad decisions\" by Bea Miller...\n",
      "Done.\n",
      "Searching for \"WAKE UP!\" by Duckwrth...\n",
      "Done.\n",
      "Searching for \"Dance With Me\" by Sir, Please...\n",
      "Done.\n",
      "Searching for \"Short Skirt / Long Jacket\" by CAKE...\n",
      "Done.\n",
      "Searching for \"I Love It (feat. Charli XCX)\" by Icona Pop...\n",
      "Done.\n",
      "Searching for \"Ain't Shit\" by Doja Cat...\n",
      "Done.\n",
      "Searching for \"Only Girl (In The World)\" by Rihanna...\n",
      "Done.\n",
      "Searching for \"Body Move\" by Dizzy Fae...\n",
      "Done.\n",
      "Searching for \"Saturday in the Park\" by Chicago...\n",
      "Done.\n",
      "Searching for \"Red Kingdom\" by Tech N9ne...\n",
      "Done.\n",
      "Searching for \"Snowman\" by Sia...\n",
      "Done.\n",
      "Searching for \"Slide (feat. Frank Ocean & Migos)\" by Calvin Harris...\n",
      "Done.\n",
      "Searching for \"All The Time\" by Bahamas...\n",
      "Done.\n",
      "Searching for \"Burden Of Proof\" by Benny The Butcher...\n",
      "Done.\n",
      "Searching for \"Always Forever\" by Cults...\n",
      "Done.\n",
      "Searching for \"Gimme! Gimme! Gimme! (A Man After Midnight)\" by ABBA...\n",
      "Done.\n",
      "Searching for \"Back To Black\" by Amy Winehouse...\n",
      "Done.\n",
      "Searching for \"my tears ricochet\" by Taylor Swift...\n",
      "Done.\n",
      "Searching for \"Before He Cheats\" by Carrie Underwood...\n",
      "Done.\n",
      "Searching for \"Cat's in the Cradle\" by Harry Chapin...\n",
      "Done.\n",
      "Searching for \"Gurenge (From \"Demon Slayer: Kimetsu no Yaiba\")\" by Akano...\n",
      "No results found for: 'Gurenge (From \"Demon Slayer: Kimetsu no Yaiba\") Akano'\n",
      "Searching for \"Friday (feat. Mufasa & Hypeman) - Dopamine Re-Edit\" by Riton...\n",
      "Done.\n",
      "Searching for \"Interlude (That's Love)\" by Chance the Rapper...\n",
      "Done.\n",
      "Searching for \"All Too Well (10 Minute Version) (Taylor's Version) (From The Vault)\" by Taylor Swift...\n",
      "Searching for \"All Too Well (10 Minute Version) (Taylor's Version) (From The Vault)\" by Taylor Swift...\n",
      "Done.\n",
      "Searching for \"Need It\" by Ship Wrek...\n",
      "Done.\n",
      "Searching for \"Grow\" by HOAX...\n",
      "Done.\n",
      "Searching for \"Seven Nation Army\" by The White Stripes...\n",
      "Done.\n",
      "Searching for \"Pressure In My Palms (feat. slowthai, Vince Staples)\" by Aminé...\n",
      "Done.\n",
      "Searching for \"Uptown Girl\" by Billy Joel...\n",
      "Done.\n",
      "Searching for \"Gurenge (From \"Demon Slayer: Kimetsu no Yaiba\")\" by Akano...\n",
      "No results found for: 'Gurenge (From \"Demon Slayer: Kimetsu no Yaiba\") Akano'\n",
      "Searching for \"Love Tonight - David Guetta Remix Edit\" by Shouse...\n",
      "Done.\n",
      "Searching for \"Valerie - Glee Cast Version\" by Glee Cast...\n",
      "Done.\n",
      "Searching for \"Right Hand\" by Drake...\n",
      "Done.\n",
      "Searching for \"Rum Rage\" by Sticky Fingers...\n",
      "Done.\n",
      "Searching for \"Die For You\" by The Weeknd...\n",
      "Done.\n",
      "Searching for \"Hotline Bling\" by Drake...\n",
      "Done.\n",
      "Searching for \"Hotel Room Service\" by Pitbull...\n",
      "Done.\n",
      "Searching for \"The Plan - From the Motion Picture \"TENET\"\" by Travis Scott...\n",
      "Done.\n",
      "Searching for \"I Am A God\" by Kanye West...\n",
      "Done.\n",
      "Searching for \"My Favorite Part\" by Mac Miller...\n",
      "Done.\n",
      "Searching for \"Die For You\" by The Weeknd...\n",
      "Done.\n",
      "Searching for \"Cartoon\" by Various Artists...\n",
      "Done.\n",
      "Searching for \"Die For You\" by The Weeknd...\n",
      "Done.\n",
      "Searching for \"A Man Without Love\" by Engelbert Humperdinck...\n",
      "Done.\n",
      "Searching for \"come out and play\" by Billie Eilish...\n",
      "Done.\n",
      "Searching for \"CHOOSIN SZN\" by KINGMOSTWANTED...\n",
      "Done.\n",
      "Searching for \"Dear Maria, Count Me In\" by All Time Low...\n",
      "Done.\n",
      "Searching for \"Main Title - From The \"Game Of Thrones\" Soundtrack\" by Ramin Djawadi...\n",
      "No results found for: 'Main Title - From The \"Game Of Thrones\" Soundtrack Ramin Djawadi'\n",
      "Searching for \"See You Again (feat. Kali Uchis)\" by Tyler, The Creator...\n",
      "Done.\n",
      "Searching for \"Blood On The Leaves\" by Kanye West...\n",
      "Done.\n",
      "Searching for \"Crank That (Soulja Boy)\" by Soulja Boy...\n",
      "Searching for \"Crank That (Soulja Boy)\" by Soulja Boy...\n",
      "Done.\n",
      "Searching for \"Flower Shops (feat. Morgan Wallen)\" by ERNEST...\n",
      "Done.\n",
      "Searching for \"Cherry Tree\" by Grant Klein...\n",
      "Done.\n",
      "Searching for \"Die For You\" by The Weeknd...\n",
      "Done.\n",
      "Searching for \"Girls Love Beyoncé (feat. James Fauntleroy)\" by Drake...\n",
      "Done.\n",
      "Searching for \"Passing Through (Can't the Future Just Wait)\" by Kaden MacKay...\n",
      "Done.\n",
      "Searching for \"Nasheed - Kuntu Maitan\" by Sulim...\n",
      "No results found for: 'Nasheed - Kuntu Maitan Sulim'\n",
      "Searching for \"Television / So Far So Good\" by Rex Orange County...\n",
      "Done.\n",
      "Searching for \"Changes\" by Charles Bradley...\n",
      "Done.\n",
      "Searching for \"Remember Me\" by UMI...\n",
      "Done.\n",
      "Searching for \"Fuentes de Ortiz\" by Ed Maverick...\n",
      "Done.\n",
      "Searching for \"Honey Bones\" by DOPE LEMON...\n",
      "Done.\n",
      "Searching for \"Shape of You\" by Ed Sheeran...\n",
      "Done.\n",
      "Searching for \"SAD!\" by XXXTENTACION...\n",
      "Done.\n",
      "Searching for \"Freaky Friday (feat. Chris Brown)\" by Lil Dicky...\n",
      "Done.\n",
      "Searching for \"Movie Star (feat. Pharrell Williams)\" by Jack Harlow...\n",
      "Done.\n",
      "Searching for \"Forever And For Always\" by Shania Twain...\n",
      "Done.\n",
      "Searching for \"Driving to Hawaii\" by Summer Salt...\n",
      "Done.\n",
      "Searching for \"Technically\" by Teezo Touchdown...\n",
      "Done.\n",
      "Searching for \"SICKO MODE\" by Travis Scott...\n",
      "Searching for \"SICKO MODE\" by Travis Scott...\n",
      "Done.\n",
      "Searching for \"SHINE\" by Aminé...\n",
      "Done.\n",
      "Searching for \"Hidcote Garden\" by Moments...\n",
      "No results found for: 'Hidcote Garden Moments'\n",
      "Searching for \"honest (feat. moon tang)\" by Gareth.T...\n",
      "Done.\n",
      "Searching for \"100 Degrees\" by Rich Brian...\n",
      "Done.\n",
      "Searching for \"Better Not (with Wafia)\" by Louis The Child...\n",
      "Done.\n",
      "Searching for \"Are You in Love?\" by Kyle Lux...\n",
      "Done.\n",
      "Searching for \"Take Me Where Your Heart Is\" by Q...\n",
      "Done.\n",
      "Searching for \"Across The Room (feat. Leon Bridges)\" by ODESZA...\n",
      "Done.\n",
      "Searching for \"Girls Want Girls (with Lil Baby)\" by Drake...\n",
      "Done.\n",
      "Searching for \"Lost Lands 2021 Mix\" by Excision...\n",
      "Done.\n",
      "Searching for \"Mariposa\" by Peach Tree Rascals...\n",
      "Done.\n",
      "Searching for \"Afterthought\" by Joji...\n",
      "Done.\n",
      "Searching for \"I Gotta Feeling\" by Black Eyed Peas...\n",
      "Done.\n",
      "Searching for \"Butterflies\" by Fiji Blue...\n",
      "Done.\n",
      "Searching for \"Butterflies\" by Johnny Stimson...\n",
      "Done.\n"
     ]
    }
   ],
   "source": [
    "users_to_lyrics = get_users_to_lyrics(users_to_posts, GENIUS_API_TOKEN)"
   ]
  },
  {
   "cell_type": "code",
   "execution_count": 6,
   "id": "a27e34a5-8452-445a-a405-79cbee497ed2",
   "metadata": {},
   "outputs": [],
   "source": [
    "class AyyoDataset(Dataset):\n",
    "    def __init__(self, users_to_lyrics, word_embedding, tokenizer):\n",
    "        self.users_to_lyrics = users_to_lyrics\n",
    "        self.word_emb = word_embedding\n",
    "        self.tokenizer = tokenizer\n",
    "        \n",
    "    def __len__(self):\n",
    "        return len(self.users_to_lyrics)\n",
    "    \n",
    "    def __getitem__(self, idx):\n",
    "        if isinstance(idx, int):\n",
    "            key = list(self.users_to_lyrics.keys())[idx]\n",
    "        else:\n",
    "            key = idx\n",
    "        lyrics_list = self.users_to_lyrics[key]\n",
    "        centroid = compute_centroid(lyrics_list, self.word_emb, self.tokenizer)\n",
    "        return key, centroid"
   ]
  },
  {
   "cell_type": "code",
   "execution_count": 7,
   "id": "57ea5527-fe5b-4192-9df6-e9b018282d58",
   "metadata": {},
   "outputs": [],
   "source": [
    "user2idx = {u:i for i, u in enumerate(list(users_to_lyrics.keys()))}"
   ]
  },
  {
   "cell_type": "markdown",
   "id": "9e3a82e5-ba13-45ce-90a3-48dc48d7d095",
   "metadata": {},
   "source": [
    "#### Using Pretrained GloVe Embeddings with Custom Tokenization"
   ]
  },
  {
   "cell_type": "code",
   "execution_count": 7,
   "id": "0c33d55d-fd2c-4381-a663-e46858ac2746",
   "metadata": {
    "collapsed": true,
    "jupyter": {
     "outputs_hidden": true
    },
    "tags": []
   },
   "outputs": [
    {
     "ename": "KeyboardInterrupt",
     "evalue": "",
     "output_type": "error",
     "traceback": [
      "\u001b[0;31m---------------------------------------------------------------------------\u001b[0m",
      "\u001b[0;31mKeyboardInterrupt\u001b[0m                         Traceback (most recent call last)",
      "\u001b[0;32m<ipython-input-7-576cb13e2456>\u001b[0m in \u001b[0;36m<module>\u001b[0;34m\u001b[0m\n\u001b[0;32m----> 1\u001b[0;31m \u001b[0mglove\u001b[0m \u001b[0;34m=\u001b[0m \u001b[0mload_glove\u001b[0m\u001b[0;34m(\u001b[0m\u001b[0;34m'glove.6B.300d.txt'\u001b[0m\u001b[0;34m)\u001b[0m  \u001b[0;31m# dictionary\u001b[0m\u001b[0;34m\u001b[0m\u001b[0;34m\u001b[0m\u001b[0m\n\u001b[0m",
      "\u001b[0;32m~/USF/dl/ayyo_user_similarity/Spotify_Analysis.py\u001b[0m in \u001b[0;36mload_glove\u001b[0;34m(filename)\u001b[0m\n\u001b[1;32m     98\u001b[0m         \u001b[0;32mfor\u001b[0m \u001b[0mline\u001b[0m \u001b[0;32min\u001b[0m \u001b[0mf\u001b[0m\u001b[0;34m.\u001b[0m\u001b[0mreadlines\u001b[0m\u001b[0;34m(\u001b[0m\u001b[0;34m)\u001b[0m\u001b[0;34m:\u001b[0m\u001b[0;34m\u001b[0m\u001b[0;34m\u001b[0m\u001b[0m\n\u001b[1;32m     99\u001b[0m             \u001b[0mline\u001b[0m \u001b[0;34m=\u001b[0m \u001b[0mline\u001b[0m\u001b[0;34m.\u001b[0m\u001b[0msplit\u001b[0m\u001b[0;34m(\u001b[0m\u001b[0;34m' '\u001b[0m\u001b[0;34m)\u001b[0m\u001b[0;34m\u001b[0m\u001b[0;34m\u001b[0m\u001b[0m\n\u001b[0;32m--> 100\u001b[0;31m             \u001b[0mword2vec\u001b[0m\u001b[0;34m[\u001b[0m\u001b[0mline\u001b[0m\u001b[0;34m[\u001b[0m\u001b[0;36m0\u001b[0m\u001b[0;34m]\u001b[0m\u001b[0;34m]\u001b[0m \u001b[0;34m=\u001b[0m \u001b[0mnp\u001b[0m\u001b[0;34m.\u001b[0m\u001b[0masarray\u001b[0m\u001b[0;34m(\u001b[0m\u001b[0mline\u001b[0m\u001b[0;34m[\u001b[0m\u001b[0;36m1\u001b[0m\u001b[0;34m:\u001b[0m\u001b[0;34m]\u001b[0m\u001b[0;34m,\u001b[0m \u001b[0;34m\"float32\"\u001b[0m\u001b[0;34m)\u001b[0m\u001b[0;34m\u001b[0m\u001b[0;34m\u001b[0m\u001b[0m\n\u001b[0m\u001b[1;32m    101\u001b[0m     \u001b[0;32mreturn\u001b[0m \u001b[0mword2vec\u001b[0m\u001b[0;34m\u001b[0m\u001b[0;34m\u001b[0m\u001b[0m\n\u001b[1;32m    102\u001b[0m \u001b[0;34m\u001b[0m\u001b[0m\n",
      "\u001b[0;31mKeyboardInterrupt\u001b[0m: "
     ]
    }
   ],
   "source": [
    "glove = load_glove('glove.6B.300d.txt')  # dictionary"
   ]
  },
  {
   "cell_type": "code",
   "execution_count": 6,
   "id": "87d82f5a-6549-4434-a04b-36da94624566",
   "metadata": {
    "collapsed": true,
    "jupyter": {
     "outputs_hidden": true
    },
    "tags": []
   },
   "outputs": [
    {
     "ename": "NameError",
     "evalue": "name 'glove' is not defined",
     "output_type": "error",
     "traceback": [
      "\u001b[0;31m---------------------------------------------------------------------------\u001b[0m",
      "\u001b[0;31mNameError\u001b[0m                                 Traceback (most recent call last)",
      "\u001b[0;32m<ipython-input-6-4a173301a848>\u001b[0m in \u001b[0;36m<module>\u001b[0;34m\u001b[0m\n\u001b[0;32m----> 1\u001b[0;31m \u001b[0mdataset\u001b[0m \u001b[0;34m=\u001b[0m \u001b[0mAyyoDataset\u001b[0m\u001b[0;34m(\u001b[0m\u001b[0musers_to_lyrics\u001b[0m\u001b[0;34m,\u001b[0m \u001b[0mglove\u001b[0m\u001b[0;34m,\u001b[0m \u001b[0mtokenizer\u001b[0m\u001b[0;34m=\u001b[0m\u001b[0;32mNone\u001b[0m\u001b[0;34m)\u001b[0m\u001b[0;34m\u001b[0m\u001b[0;34m\u001b[0m\u001b[0m\n\u001b[0m\u001b[1;32m      2\u001b[0m \u001b[0mdataloader\u001b[0m \u001b[0;34m=\u001b[0m \u001b[0mDataLoader\u001b[0m\u001b[0;34m(\u001b[0m\u001b[0mdataset\u001b[0m\u001b[0;34m)\u001b[0m\u001b[0;34m\u001b[0m\u001b[0;34m\u001b[0m\u001b[0m\n",
      "\u001b[0;31mNameError\u001b[0m: name 'glove' is not defined"
     ]
    }
   ],
   "source": [
    "dataset = AyyoDataset(users_to_lyrics, glove, tokenizer=None)\n",
    "dataloader = DataLoader(dataset)"
   ]
  },
  {
   "cell_type": "code",
   "execution_count": 36,
   "id": "fbab7c95-209c-415f-abb5-7f0159511b7f",
   "metadata": {},
   "outputs": [
    {
     "name": "stdout",
     "output_type": "stream",
     "text": [
      "Similarity score between emmamnrainer and marti.heit is 0.3409045338630676\n"
     ]
    }
   ],
   "source": [
    "user1, centroid1 = dataset[12]\n",
    "user2, centroid2 = dataset[15]\n",
    "print(f\"Similarity score between {user1} and {user2} is {similarity_score(centroid1, centroid2)}\")"
   ]
  },
  {
   "cell_type": "code",
   "execution_count": 41,
   "id": "f927da21-2208-401b-b1a5-74dcc206682b",
   "metadata": {},
   "outputs": [
    {
     "name": "stdout",
     "output_type": "stream",
     "text": [
      "Similarity score between trenthamner and marti.heit is 0.7031075954437256\n"
     ]
    }
   ],
   "source": [
    "user1, centroid1 = dataset[user2idx['trenthamner']]\n",
    "user2, centroid2 = dataset[user2idx['marti.heit']]\n",
    "print(f\"Similarity score between {user1} and {user2} is {similarity_score(centroid1, centroid2)}\")"
   ]
  },
  {
   "cell_type": "code",
   "execution_count": 42,
   "id": "d261a5bb-93d9-4d81-81fd-286dd6874053",
   "metadata": {},
   "outputs": [
    {
     "name": "stdout",
     "output_type": "stream",
     "text": [
      "Similarity score between mateen_saifyan and marti.heit is 0.31349149346351624\n"
     ]
    }
   ],
   "source": [
    "user1, centroid1 = dataset[user2idx['mateen_saifyan']]\n",
    "user2, centroid2 = dataset[user2idx['marti.heit']]\n",
    "print(f\"Similarity score between {user1} and {user2} is {similarity_score(centroid1, centroid2)}\")"
   ]
  },
  {
   "cell_type": "code",
   "execution_count": 43,
   "id": "973f0290-9a24-4ae1-a12e-83cf81d6fb55",
   "metadata": {},
   "outputs": [
    {
     "name": "stdout",
     "output_type": "stream",
     "text": [
      "Similarity score between mateen_saifyan and emmamnrainer is 0.43250492215156555\n"
     ]
    }
   ],
   "source": [
    "user1, centroid1 = dataset[user2idx['mateen_saifyan']]\n",
    "user2, centroid2 = dataset[user2idx['emmamnrainer']]\n",
    "print(f\"Similarity score between {user1} and {user2} is {similarity_score(centroid1, centroid2)}\")"
   ]
  },
  {
   "cell_type": "markdown",
   "id": "dac4688d-ca1b-4526-9891-1f039df91bf8",
   "metadata": {},
   "source": [
    "#### Using Pretrained GloVe Embeddings with Pretrained Autotokenizer "
   ]
  },
  {
   "cell_type": "code",
   "execution_count": 10,
   "id": "f0993338-d85a-46c0-a683-328a142052f8",
   "metadata": {},
   "outputs": [],
   "source": [
    "tokenizer = hf.AutoTokenizer.from_pretrained('bert-base-uncased')"
   ]
  },
  {
   "cell_type": "code",
   "execution_count": 46,
   "id": "ffa95e0a-6e65-4c46-8a53-fcc68cd3104a",
   "metadata": {
    "collapsed": true,
    "jupyter": {
     "outputs_hidden": true
    },
    "tags": []
   },
   "outputs": [
    {
     "ename": "NameError",
     "evalue": "name 'glove' is not defined",
     "output_type": "error",
     "traceback": [
      "\u001b[0;31m---------------------------------------------------------------------------\u001b[0m",
      "\u001b[0;31mNameError\u001b[0m                                 Traceback (most recent call last)",
      "\u001b[0;32m<ipython-input-46-2bcc4b314a4b>\u001b[0m in \u001b[0;36m<module>\u001b[0;34m\u001b[0m\n\u001b[0;32m----> 1\u001b[0;31m \u001b[0mdataset\u001b[0m \u001b[0;34m=\u001b[0m \u001b[0mAyyoDataset\u001b[0m\u001b[0;34m(\u001b[0m\u001b[0musers_to_lyrics\u001b[0m\u001b[0;34m,\u001b[0m \u001b[0mglove\u001b[0m\u001b[0;34m,\u001b[0m \u001b[0mtokenizer\u001b[0m\u001b[0;34m=\u001b[0m\u001b[0mtokenizer\u001b[0m\u001b[0;34m)\u001b[0m\u001b[0;34m\u001b[0m\u001b[0;34m\u001b[0m\u001b[0m\n\u001b[0m\u001b[1;32m      2\u001b[0m \u001b[0mdataloader\u001b[0m \u001b[0;34m=\u001b[0m \u001b[0mDataLoader\u001b[0m\u001b[0;34m(\u001b[0m\u001b[0mdataset\u001b[0m\u001b[0;34m)\u001b[0m\u001b[0;34m\u001b[0m\u001b[0;34m\u001b[0m\u001b[0m\n",
      "\u001b[0;31mNameError\u001b[0m: name 'glove' is not defined"
     ]
    }
   ],
   "source": [
    "dataset = AyyoDataset(users_to_lyrics, glove, tokenizer=tokenizer)\n",
    "dataloader = DataLoader(dataset)"
   ]
  },
  {
   "cell_type": "code",
   "execution_count": 16,
   "id": "6bbb87c5-6a1c-47c4-95b6-121331e4abd7",
   "metadata": {},
   "outputs": [
    {
     "name": "stdout",
     "output_type": "stream",
     "text": [
      "Similarity score between emmamnrainer and marti.heit is 0.2059921771287918\n"
     ]
    }
   ],
   "source": [
    "user1, centroid1 = dataset[12]\n",
    "user2, centroid2 = dataset[15]\n",
    "print(f\"Similarity score between {user1} and {user2} is {similarity_score(centroid1, centroid2)}\")"
   ]
  },
  {
   "cell_type": "code",
   "execution_count": 20,
   "id": "a543b149-1dd9-4367-b5aa-600b71310e2b",
   "metadata": {},
   "outputs": [
    {
     "name": "stdout",
     "output_type": "stream",
     "text": [
      "Similarity score between trenthamner and marti.heit is 0.4512885510921478\n"
     ]
    }
   ],
   "source": [
    "user1, centroid1 = dataset[user2idx['trenthamner']]\n",
    "user2, centroid2 = dataset[user2idx['marti.heit']]\n",
    "print(f\"Similarity score between {user1} and {user2} is {similarity_score(centroid1, centroid2)}\")"
   ]
  },
  {
   "cell_type": "code",
   "execution_count": 21,
   "id": "6fcbadf1-1892-420c-b7ea-43592a89475f",
   "metadata": {},
   "outputs": [
    {
     "name": "stdout",
     "output_type": "stream",
     "text": [
      "Similarity score between mateen_saifyan and marti.heit is 0.1853409856557846\n"
     ]
    }
   ],
   "source": [
    "user1, centroid1 = dataset[user2idx['mateen_saifyan']]\n",
    "user2, centroid2 = dataset[user2idx['marti.heit']]\n",
    "print(f\"Similarity score between {user1} and {user2} is {similarity_score(centroid1, centroid2)}\")"
   ]
  },
  {
   "cell_type": "code",
   "execution_count": 22,
   "id": "d90a82cc-a2c6-4eb4-9cd6-cd49d5a3ed6b",
   "metadata": {},
   "outputs": [
    {
     "name": "stdout",
     "output_type": "stream",
     "text": [
      "Similarity score between mateen_saifyan and emmamnrainer is 0.23521049320697784\n"
     ]
    }
   ],
   "source": [
    "user1, centroid1 = dataset[user2idx['mateen_saifyan']]\n",
    "user2, centroid2 = dataset[user2idx['emmamnrainer']]\n",
    "print(f\"Similarity score between {user1} and {user2} is {similarity_score(centroid1, centroid2)}\")"
   ]
  },
  {
   "cell_type": "markdown",
   "id": "d71b8130-e032-479f-8215-12210120f39b",
   "metadata": {},
   "source": [
    "#### Using Wikipedia GloVe Embeddings with Pretrained Autotokenizer"
   ]
  },
  {
   "cell_type": "code",
   "execution_count": 7,
   "id": "e8079206-85af-4843-9ffc-d8608f100abb",
   "metadata": {},
   "outputs": [],
   "source": [
    "import gensim.downloader\n",
    "glove_emb = gensim.downloader.load('glove-wiki-gigaword-100')"
   ]
  },
  {
   "cell_type": "code",
   "execution_count": 10,
   "id": "e9cf81ec-ffe3-4e89-96d5-d98294da6765",
   "metadata": {},
   "outputs": [],
   "source": [
    "dataset = AyyoDataset(users_to_lyrics, glove_emb, tokenizer=tokenizer)\n",
    "dataloader = DataLoader(dataset)"
   ]
  },
  {
   "cell_type": "code",
   "execution_count": 11,
   "id": "6294a353-1518-469b-a69b-ce9e659786a6",
   "metadata": {},
   "outputs": [
    {
     "name": "stderr",
     "output_type": "stream",
     "text": [
      "Token indices sequence length is longer than the specified maximum sequence length for this model (842 > 512). Running this sequence through the model will result in indexing errors\n"
     ]
    },
    {
     "name": "stdout",
     "output_type": "stream",
     "text": [
      "Similarity score between emmamnrainer and marti.heit is 0.21748033165931702\n"
     ]
    }
   ],
   "source": [
    "user1, centroid1 = dataset[12]\n",
    "user2, centroid2 = dataset[15]\n",
    "print(f\"Similarity score between {user1} and {user2} is {similarity_score(centroid1, centroid2)}\")"
   ]
  },
  {
   "cell_type": "code",
   "execution_count": 12,
   "id": "742fbb99-0be9-446e-86da-df5dd8db637f",
   "metadata": {},
   "outputs": [
    {
     "name": "stdout",
     "output_type": "stream",
     "text": [
      "Similarity score between trenthamner and marti.heit is 0.4655885696411133\n"
     ]
    }
   ],
   "source": [
    "user1, centroid1 = dataset[user2idx['trenthamner']]\n",
    "user2, centroid2 = dataset[user2idx['marti.heit']]\n",
    "print(f\"Similarity score between {user1} and {user2} is {similarity_score(centroid1, centroid2)}\")"
   ]
  },
  {
   "cell_type": "code",
   "execution_count": 13,
   "id": "1540f03e-b262-45f1-8670-e14c9e2940fc",
   "metadata": {},
   "outputs": [
    {
     "name": "stdout",
     "output_type": "stream",
     "text": [
      "Similarity score between mateen_saifyan and marti.heit is 0.19340956211090088\n"
     ]
    }
   ],
   "source": [
    "user1, centroid1 = dataset[user2idx['mateen_saifyan']]\n",
    "user2, centroid2 = dataset[user2idx['marti.heit']]\n",
    "print(f\"Similarity score between {user1} and {user2} is {similarity_score(centroid1, centroid2)}\")"
   ]
  },
  {
   "cell_type": "code",
   "execution_count": 14,
   "id": "5761051b-2ca7-4d2d-bea7-60af54ca2044",
   "metadata": {},
   "outputs": [
    {
     "name": "stdout",
     "output_type": "stream",
     "text": [
      "Similarity score between mateen_saifyan and emmamnrainer is 0.25985467433929443\n"
     ]
    }
   ],
   "source": [
    "user1, centroid1 = dataset[user2idx['mateen_saifyan']]\n",
    "user2, centroid2 = dataset[user2idx['emmamnrainer']]\n",
    "print(f\"Similarity score between {user1} and {user2} is {similarity_score(centroid1, centroid2)}\")"
   ]
  },
  {
   "cell_type": "markdown",
   "id": "42dab166-7fbd-45e1-a399-64071da1be6f",
   "metadata": {},
   "source": [
    "#### Using Twitter GloVe Embeddings with Pretrained Autotokenizer"
   ]
  },
  {
   "cell_type": "code",
   "execution_count": 8,
   "id": "a9f9b47d-96a1-4e17-8bad-0ea5db896800",
   "metadata": {},
   "outputs": [],
   "source": [
    "import gensim.downloader\n",
    "glove_emb = gensim.downloader.load('glove-twitter-200')"
   ]
  },
  {
   "cell_type": "code",
   "execution_count": 11,
   "id": "10d63118-bdc6-4cdb-b03d-9f83bb8fc6da",
   "metadata": {},
   "outputs": [],
   "source": [
    "dataset = AyyoDataset(users_to_lyrics, glove_emb, tokenizer=tokenizer)\n",
    "dataloader = DataLoader(dataset)"
   ]
  },
  {
   "cell_type": "code",
   "execution_count": 12,
   "id": "55d2c42d-075e-4076-a72c-6b01cc7e3597",
   "metadata": {},
   "outputs": [
    {
     "name": "stderr",
     "output_type": "stream",
     "text": [
      "Token indices sequence length is longer than the specified maximum sequence length for this model (842 > 512). Running this sequence through the model will result in indexing errors\n"
     ]
    },
    {
     "name": "stdout",
     "output_type": "stream",
     "text": [
      "Similarity score between emmamnrainer and marti.heit is 0.21748033165931702\n"
     ]
    }
   ],
   "source": [
    "user1, centroid1 = dataset[12]\n",
    "user2, centroid2 = dataset[15]\n",
    "print(f\"Similarity score between {user1} and {user2} is {similarity_score(centroid1, centroid2)}\")"
   ]
  },
  {
   "cell_type": "code",
   "execution_count": 13,
   "id": "8ca70a08-98b6-4773-a599-3da8d73d2685",
   "metadata": {},
   "outputs": [
    {
     "name": "stdout",
     "output_type": "stream",
     "text": [
      "Similarity score between trenthamner and marti.heit is 0.4655885696411133\n"
     ]
    }
   ],
   "source": [
    "user1, centroid1 = dataset[user2idx['trenthamner']]\n",
    "user2, centroid2 = dataset[user2idx['marti.heit']]\n",
    "print(f\"Similarity score between {user1} and {user2} is {similarity_score(centroid1, centroid2)}\")"
   ]
  },
  {
   "cell_type": "code",
   "execution_count": 14,
   "id": "242e047a-bebc-4d7c-bab6-3e37949e7daa",
   "metadata": {},
   "outputs": [
    {
     "name": "stdout",
     "output_type": "stream",
     "text": [
      "Similarity score between mateen_saifyan and marti.heit is 0.19340956211090088\n"
     ]
    }
   ],
   "source": [
    "user1, centroid1 = dataset[user2idx['mateen_saifyan']]\n",
    "user2, centroid2 = dataset[user2idx['marti.heit']]\n",
    "print(f\"Similarity score between {user1} and {user2} is {similarity_score(centroid1, centroid2)}\")"
   ]
  },
  {
   "cell_type": "code",
   "execution_count": 15,
   "id": "1253725b-7f56-46b8-bb34-8668e7c807ba",
   "metadata": {},
   "outputs": [
    {
     "name": "stdout",
     "output_type": "stream",
     "text": [
      "Similarity score between mateen_saifyan and emmamnrainer is 0.25985467433929443\n"
     ]
    }
   ],
   "source": [
    "user1, centroid1 = dataset[user2idx['mateen_saifyan']]\n",
    "user2, centroid2 = dataset[user2idx['emmamnrainer']]\n",
    "print(f\"Similarity score between {user1} and {user2} is {similarity_score(centroid1, centroid2)}\")"
   ]
  },
  {
   "cell_type": "markdown",
   "id": "39cc83ee-896b-4595-abe0-1025059b722e",
   "metadata": {},
   "source": [
    "### Find Most Similar Users"
   ]
  },
  {
   "cell_type": "code",
   "execution_count": 16,
   "id": "be0b3329-4a78-4068-997b-57044a1dc9a2",
   "metadata": {},
   "outputs": [],
   "source": [
    "user_similarity_matrix = create_user_similarity_matrix(users_to_lyrics, dataset)"
   ]
  },
  {
   "cell_type": "code",
   "execution_count": 17,
   "id": "2a855174-c24d-4d37-8288-34ff19dccab0",
   "metadata": {},
   "outputs": [
    {
     "data": {
      "image/png": "[encoded data removed]",
      "text/plain": [
       "<Figure size 720x720 with 2 Axes>"
      ]
     },
     "metadata": {
      "image/png": {
       "height": 730,
       "width": 711
      },
      "needs_background": "light"
     },
     "output_type": "display_data"
    }
   ],
   "source": [
    "fig, ax = plt.subplots(figsize=(10,10))\n",
    "sns.heatmap(user_similarity_matrix.astype('float64'))\n",
    "fig.show()\n",
    "plt.savefig('user_heatmap.png')"
   ]
  },
  {
   "cell_type": "markdown",
   "id": "90fc98cb",
   "metadata": {},
   "source": [
    "## Task 2: Use generated data to predict if a user will like a song"
   ]
  },
  {
   "cell_type": "markdown",
   "id": "ec483abf",
   "metadata": {},
   "source": [
    "#### Generate Dataframe"
   ]
  },
  {
   "cell_type": "markdown",
   "id": "2834e257",
   "metadata": {},
   "source": [
    "So im thinking we generate data like:\n",
    "\n",
    "features:\n",
    "- unique user centroid\n",
    "- new song\n",
    "- 1/0 rating"
   ]
  },
  {
   "cell_type": "code",
   "execution_count": 123,
   "id": "05ff1e94",
   "metadata": {},
   "outputs": [],
   "source": [
    "data = {'user_embedding': [user1_centroid, user1_centroid, user1_centroid, user2_centroid, user2_centroid,\\\n",
    "                      user2_centroid, user3_centroid, user3_centroid,user3_centroid],\n",
    "        'most_similar_user': [user2_centroid,user2_centroid,user2_centroid,user1_centroid,user1_centroid,\\\n",
    "                         user1_centroid, user2_centroid, user2_centroid, user2_centroid],\n",
    "        'new_song': [lana_lyrics, olivia_lyrics, kendrick_lyrics, fiona_lyrics, zach_lyrics, chappell_lyrics,\\\n",
    "                 amine_lyrics, kanye_lyrics, mac_lyrics]}"
   ]
  },
  {
   "cell_type": "code",
   "execution_count": 125,
   "id": "a0ce1b0e",
   "metadata": {},
   "outputs": [
    {
     "data": {
      "text/html": [
       "<div>\n",
       "<style scoped>\n",
       "    .dataframe tbody tr th:only-of-type {\n",
       "        vertical-align: middle;\n",
       "    }\n",
       "\n",
       "    .dataframe tbody tr th {\n",
       "        vertical-align: top;\n",
       "    }\n",
       "\n",
       "    .dataframe thead th {\n",
       "        text-align: right;\n",
       "    }\n",
       "</style>\n",
       "<table border=\"1\" class=\"dataframe\">\n",
       "  <thead>\n",
       "    <tr style=\"text-align: right;\">\n",
       "      <th></th>\n",
       "      <th>user_embedding</th>\n",
       "      <th>most_similar_user</th>\n",
       "      <th>new_song</th>\n",
       "      <th>label</th>\n",
       "    </tr>\n",
       "  </thead>\n",
       "  <tbody>\n",
       "    <tr>\n",
       "      <th>0</th>\n",
       "      <td>[-0.04867624, -0.046041112, -0.08815306, 0.067...</td>\n",
       "      <td>[-0.0867781, -0.042138185, -0.1209145, 0.00358...</td>\n",
       "      <td>[-0.033662993, -0.056129795, -0.08538399, -0.0...</td>\n",
       "      <td>1</td>\n",
       "    </tr>\n",
       "    <tr>\n",
       "      <th>1</th>\n",
       "      <td>[-0.04867624, -0.046041112, -0.08815306, 0.067...</td>\n",
       "      <td>[-0.0867781, -0.042138185, -0.1209145, 0.00358...</td>\n",
       "      <td>[-0.12806848, -0.040105637, -0.11151454, 0.018...</td>\n",
       "      <td>1</td>\n",
       "    </tr>\n",
       "    <tr>\n",
       "      <th>2</th>\n",
       "      <td>[-0.04867624, -0.046041112, -0.08815306, 0.067...</td>\n",
       "      <td>[-0.0867781, -0.042138185, -0.1209145, 0.00358...</td>\n",
       "      <td>[0.015702737, -0.04188791, -0.06756065, 0.1926...</td>\n",
       "      <td>1</td>\n",
       "    </tr>\n",
       "    <tr>\n",
       "      <th>3</th>\n",
       "      <td>[-0.0867781, -0.042138185, -0.1209145, 0.00358...</td>\n",
       "      <td>[-0.04867624, -0.046041112, -0.08815306, 0.067...</td>\n",
       "      <td>[-0.116803765, -0.035361692, -0.118647344, 0.0...</td>\n",
       "      <td>1</td>\n",
       "    </tr>\n",
       "    <tr>\n",
       "      <th>4</th>\n",
       "      <td>[-0.0867781, -0.042138185, -0.1209145, 0.00358...</td>\n",
       "      <td>[-0.04867624, -0.046041112, -0.08815306, 0.067...</td>\n",
       "      <td>[-0.02747917, -0.10858934, -0.068350054, 0.007...</td>\n",
       "      <td>1</td>\n",
       "    </tr>\n",
       "  </tbody>\n",
       "</table>\n",
       "</div>"
      ],
      "text/plain": [
       "                                      user_embedding  \\\n",
       "0  [-0.04867624, -0.046041112, -0.08815306, 0.067...   \n",
       "1  [-0.04867624, -0.046041112, -0.08815306, 0.067...   \n",
       "2  [-0.04867624, -0.046041112, -0.08815306, 0.067...   \n",
       "3  [-0.0867781, -0.042138185, -0.1209145, 0.00358...   \n",
       "4  [-0.0867781, -0.042138185, -0.1209145, 0.00358...   \n",
       "\n",
       "                                   most_similar_user  \\\n",
       "0  [-0.0867781, -0.042138185, -0.1209145, 0.00358...   \n",
       "1  [-0.0867781, -0.042138185, -0.1209145, 0.00358...   \n",
       "2  [-0.0867781, -0.042138185, -0.1209145, 0.00358...   \n",
       "3  [-0.04867624, -0.046041112, -0.08815306, 0.067...   \n",
       "4  [-0.04867624, -0.046041112, -0.08815306, 0.067...   \n",
       "\n",
       "                                            new_song  label  \n",
       "0  [-0.033662993, -0.056129795, -0.08538399, -0.0...      1  \n",
       "1  [-0.12806848, -0.040105637, -0.11151454, 0.018...      1  \n",
       "2  [0.015702737, -0.04188791, -0.06756065, 0.1926...      1  \n",
       "3  [-0.116803765, -0.035361692, -0.118647344, 0.0...      1  \n",
       "4  [-0.02747917, -0.10858934, -0.068350054, 0.007...      1  "
      ]
     },
     "execution_count": 125,
     "metadata": {},
     "output_type": "execute_result"
    }
   ],
   "source": [
    "df = pd.DataFrame.from_dict(data)\n",
    "df['new_song'] = [doc2vec(lyrics, glove) for lyrics in df['new_song']]\n",
    "df['label'] = 1\n",
    "df.head()"
   ]
  },
  {
   "cell_type": "markdown",
   "id": "fe43f77f",
   "metadata": {},
   "source": [
    "#### Negative Sampling"
   ]
  },
  {
   "cell_type": "markdown",
   "id": "7e066a23",
   "metadata": {},
   "source": [
    "I'm thinking that once we have a lot of sample users, we can take the user that is most dissimilar from a given user and give all of those songs a negative rating? idk "
   ]
  },
  {
   "cell_type": "markdown",
   "id": "5a1fd5c1",
   "metadata": {},
   "source": [
    "#### Modeling"
   ]
  },
  {
   "cell_type": "code",
   "execution_count": 7,
   "id": "e8df6ebd",
   "metadata": {},
   "outputs": [],
   "source": [
    "import torch\n",
    "import torch.nn as nn\n",
    "import torch.nn.functional as F"
   ]
  },
  {
   "cell_type": "code",
   "execution_count": 129,
   "id": "7591671a",
   "metadata": {},
   "outputs": [],
   "source": [
    "# Using pretrained embeddings initially? idk need to work on this\n",
    "\n",
    "class MF(nn.Module):\n",
    "    def __init__(self, num_users, num_items, emb_size=300):\n",
    "        super(MF, self).__init__()\n",
    "        self.n_u = num_users\n",
    "        self.n_v = num_items\n",
    "        \n",
    "        self.user_emb = nn.Embedding(num_users, emb_size)\n",
    "        self.user_bias = nn.Embedding(num_users, 1)\n",
    "        \n",
    "        self.item_emb = nn.Embedding(num_items, emb_size) \n",
    "        self.item_bias = nn.Embedding(num_items, 1)\n",
    "        \n",
    "        self.user_emb.weight.data.uniform_(0,0.05)   # range\n",
    "        self.item_emb.weight.data.uniform_(0,0.05)\n",
    "        \n",
    "        self.user_bias.weight.data.uniform_(-0.01,0.01) # range\n",
    "        self.item_bias.weight.data.uniform_(-0.01,0.01)\n",
    "\n",
    "    def forward(self, u, v):\n",
    "        b = self.user_bias(u).squeeze()\n",
    "        c = self.item_bias(v).squeeze()\n",
    "        U = self.user_emb(u)\n",
    "        V = self.item_emb(v)\n",
    "        uv = (U*V).sum(1) + b + c\n",
    "        return uv"
   ]
  },
  {
   "cell_type": "code",
   "execution_count": null,
   "id": "59d61793",
   "metadata": {},
   "outputs": [],
   "source": []
  }
 ],
 "metadata": {
  "kernelspec": {
   "display_name": "Python 3",
   "language": "python",
   "name": "python3"
  },
  "language_info": {
   "codemirror_mode": {
    "name": "ipython",
    "version": 3
   },
   "file_extension": ".py",
   "mimetype": "text/x-python",
   "name": "python",
   "nbconvert_exporter": "python",
   "pygments_lexer": "ipython3",
   "version": "3.8.5"
  }
 },
 "nbformat": 4,
 "nbformat_minor": 5
}
